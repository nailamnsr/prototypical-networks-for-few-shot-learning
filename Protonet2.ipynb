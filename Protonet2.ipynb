{
  "nbformat": 4,
  "nbformat_minor": 0,
  "metadata": {
    "colab": {
      "provenance": [],
      "gpuType": "T4",
      "include_colab_link": true
    },
    "kernelspec": {
      "name": "python3",
      "display_name": "Python 3"
    },
    "language_info": {
      "name": "python"
    },
    "accelerator": "GPU",
    "widgets": {
      "application/vnd.jupyter.widget-state+json": {
        "652d0c06bdba451db7b9fe1ba75f1767": {
          "model_module": "@jupyter-widgets/controls",
          "model_name": "HBoxModel",
          "model_module_version": "1.5.0",
          "state": {
            "_dom_classes": [],
            "_model_module": "@jupyter-widgets/controls",
            "_model_module_version": "1.5.0",
            "_model_name": "HBoxModel",
            "_view_count": null,
            "_view_module": "@jupyter-widgets/controls",
            "_view_module_version": "1.5.0",
            "_view_name": "HBoxView",
            "box_style": "",
            "children": [
              "IPY_MODEL_c4042c470d29466b853b21893167a970",
              "IPY_MODEL_902e7eb0fd584b408cfe76d4041c3e04",
              "IPY_MODEL_3ba66256d07546788893edb27b90df4e"
            ],
            "layout": "IPY_MODEL_d75c5cf71a5f4843959a906091a972ea"
          }
        },
        "c4042c470d29466b853b21893167a970": {
          "model_module": "@jupyter-widgets/controls",
          "model_name": "HTMLModel",
          "model_module_version": "1.5.0",
          "state": {
            "_dom_classes": [],
            "_model_module": "@jupyter-widgets/controls",
            "_model_module_version": "1.5.0",
            "_model_name": "HTMLModel",
            "_view_count": null,
            "_view_module": "@jupyter-widgets/controls",
            "_view_module_version": "1.5.0",
            "_view_name": "HTMLView",
            "description": "",
            "description_tooltip": null,
            "layout": "IPY_MODEL_941aab96bc6b4bd2aa0818ee33fd291a",
            "placeholder": "​",
            "style": "IPY_MODEL_14a0f316e638408394b634c58e47fcf6",
            "value": "100%"
          }
        },
        "902e7eb0fd584b408cfe76d4041c3e04": {
          "model_module": "@jupyter-widgets/controls",
          "model_name": "FloatProgressModel",
          "model_module_version": "1.5.0",
          "state": {
            "_dom_classes": [],
            "_model_module": "@jupyter-widgets/controls",
            "_model_module_version": "1.5.0",
            "_model_name": "FloatProgressModel",
            "_view_count": null,
            "_view_module": "@jupyter-widgets/controls",
            "_view_module_version": "1.5.0",
            "_view_name": "ProgressView",
            "bar_style": "success",
            "description": "",
            "description_tooltip": null,
            "layout": "IPY_MODEL_f964d8db106947e4b8ed79b12249cdda",
            "max": 1000,
            "min": 0,
            "orientation": "horizontal",
            "style": "IPY_MODEL_dc9d26bc02c74aa7932c2dfff9987f2b",
            "value": 1000
          }
        },
        "3ba66256d07546788893edb27b90df4e": {
          "model_module": "@jupyter-widgets/controls",
          "model_name": "HTMLModel",
          "model_module_version": "1.5.0",
          "state": {
            "_dom_classes": [],
            "_model_module": "@jupyter-widgets/controls",
            "_model_module_version": "1.5.0",
            "_model_name": "HTMLModel",
            "_view_count": null,
            "_view_module": "@jupyter-widgets/controls",
            "_view_module_version": "1.5.0",
            "_view_name": "HTMLView",
            "description": "",
            "description_tooltip": null,
            "layout": "IPY_MODEL_916b89a90c674408a569ab67fd79c09f",
            "placeholder": "​",
            "style": "IPY_MODEL_e7c3ca8a874b41bbafb2e6ef219c1c1e",
            "value": " 1000/1000 [05:40&lt;00:00,  3.03it/s]"
          }
        },
        "d75c5cf71a5f4843959a906091a972ea": {
          "model_module": "@jupyter-widgets/base",
          "model_name": "LayoutModel",
          "model_module_version": "1.2.0",
          "state": {
            "_model_module": "@jupyter-widgets/base",
            "_model_module_version": "1.2.0",
            "_model_name": "LayoutModel",
            "_view_count": null,
            "_view_module": "@jupyter-widgets/base",
            "_view_module_version": "1.2.0",
            "_view_name": "LayoutView",
            "align_content": null,
            "align_items": null,
            "align_self": null,
            "border": null,
            "bottom": null,
            "display": null,
            "flex": null,
            "flex_flow": null,
            "grid_area": null,
            "grid_auto_columns": null,
            "grid_auto_flow": null,
            "grid_auto_rows": null,
            "grid_column": null,
            "grid_gap": null,
            "grid_row": null,
            "grid_template_areas": null,
            "grid_template_columns": null,
            "grid_template_rows": null,
            "height": null,
            "justify_content": null,
            "justify_items": null,
            "left": null,
            "margin": null,
            "max_height": null,
            "max_width": null,
            "min_height": null,
            "min_width": null,
            "object_fit": null,
            "object_position": null,
            "order": null,
            "overflow": null,
            "overflow_x": null,
            "overflow_y": null,
            "padding": null,
            "right": null,
            "top": null,
            "visibility": null,
            "width": null
          }
        },
        "941aab96bc6b4bd2aa0818ee33fd291a": {
          "model_module": "@jupyter-widgets/base",
          "model_name": "LayoutModel",
          "model_module_version": "1.2.0",
          "state": {
            "_model_module": "@jupyter-widgets/base",
            "_model_module_version": "1.2.0",
            "_model_name": "LayoutModel",
            "_view_count": null,
            "_view_module": "@jupyter-widgets/base",
            "_view_module_version": "1.2.0",
            "_view_name": "LayoutView",
            "align_content": null,
            "align_items": null,
            "align_self": null,
            "border": null,
            "bottom": null,
            "display": null,
            "flex": null,
            "flex_flow": null,
            "grid_area": null,
            "grid_auto_columns": null,
            "grid_auto_flow": null,
            "grid_auto_rows": null,
            "grid_column": null,
            "grid_gap": null,
            "grid_row": null,
            "grid_template_areas": null,
            "grid_template_columns": null,
            "grid_template_rows": null,
            "height": null,
            "justify_content": null,
            "justify_items": null,
            "left": null,
            "margin": null,
            "max_height": null,
            "max_width": null,
            "min_height": null,
            "min_width": null,
            "object_fit": null,
            "object_position": null,
            "order": null,
            "overflow": null,
            "overflow_x": null,
            "overflow_y": null,
            "padding": null,
            "right": null,
            "top": null,
            "visibility": null,
            "width": null
          }
        },
        "14a0f316e638408394b634c58e47fcf6": {
          "model_module": "@jupyter-widgets/controls",
          "model_name": "DescriptionStyleModel",
          "model_module_version": "1.5.0",
          "state": {
            "_model_module": "@jupyter-widgets/controls",
            "_model_module_version": "1.5.0",
            "_model_name": "DescriptionStyleModel",
            "_view_count": null,
            "_view_module": "@jupyter-widgets/base",
            "_view_module_version": "1.2.0",
            "_view_name": "StyleView",
            "description_width": ""
          }
        },
        "f964d8db106947e4b8ed79b12249cdda": {
          "model_module": "@jupyter-widgets/base",
          "model_name": "LayoutModel",
          "model_module_version": "1.2.0",
          "state": {
            "_model_module": "@jupyter-widgets/base",
            "_model_module_version": "1.2.0",
            "_model_name": "LayoutModel",
            "_view_count": null,
            "_view_module": "@jupyter-widgets/base",
            "_view_module_version": "1.2.0",
            "_view_name": "LayoutView",
            "align_content": null,
            "align_items": null,
            "align_self": null,
            "border": null,
            "bottom": null,
            "display": null,
            "flex": null,
            "flex_flow": null,
            "grid_area": null,
            "grid_auto_columns": null,
            "grid_auto_flow": null,
            "grid_auto_rows": null,
            "grid_column": null,
            "grid_gap": null,
            "grid_row": null,
            "grid_template_areas": null,
            "grid_template_columns": null,
            "grid_template_rows": null,
            "height": null,
            "justify_content": null,
            "justify_items": null,
            "left": null,
            "margin": null,
            "max_height": null,
            "max_width": null,
            "min_height": null,
            "min_width": null,
            "object_fit": null,
            "object_position": null,
            "order": null,
            "overflow": null,
            "overflow_x": null,
            "overflow_y": null,
            "padding": null,
            "right": null,
            "top": null,
            "visibility": null,
            "width": null
          }
        },
        "dc9d26bc02c74aa7932c2dfff9987f2b": {
          "model_module": "@jupyter-widgets/controls",
          "model_name": "ProgressStyleModel",
          "model_module_version": "1.5.0",
          "state": {
            "_model_module": "@jupyter-widgets/controls",
            "_model_module_version": "1.5.0",
            "_model_name": "ProgressStyleModel",
            "_view_count": null,
            "_view_module": "@jupyter-widgets/base",
            "_view_module_version": "1.2.0",
            "_view_name": "StyleView",
            "bar_color": null,
            "description_width": ""
          }
        },
        "916b89a90c674408a569ab67fd79c09f": {
          "model_module": "@jupyter-widgets/base",
          "model_name": "LayoutModel",
          "model_module_version": "1.2.0",
          "state": {
            "_model_module": "@jupyter-widgets/base",
            "_model_module_version": "1.2.0",
            "_model_name": "LayoutModel",
            "_view_count": null,
            "_view_module": "@jupyter-widgets/base",
            "_view_module_version": "1.2.0",
            "_view_name": "LayoutView",
            "align_content": null,
            "align_items": null,
            "align_self": null,
            "border": null,
            "bottom": null,
            "display": null,
            "flex": null,
            "flex_flow": null,
            "grid_area": null,
            "grid_auto_columns": null,
            "grid_auto_flow": null,
            "grid_auto_rows": null,
            "grid_column": null,
            "grid_gap": null,
            "grid_row": null,
            "grid_template_areas": null,
            "grid_template_columns": null,
            "grid_template_rows": null,
            "height": null,
            "justify_content": null,
            "justify_items": null,
            "left": null,
            "margin": null,
            "max_height": null,
            "max_width": null,
            "min_height": null,
            "min_width": null,
            "object_fit": null,
            "object_position": null,
            "order": null,
            "overflow": null,
            "overflow_x": null,
            "overflow_y": null,
            "padding": null,
            "right": null,
            "top": null,
            "visibility": null,
            "width": null
          }
        },
        "e7c3ca8a874b41bbafb2e6ef219c1c1e": {
          "model_module": "@jupyter-widgets/controls",
          "model_name": "DescriptionStyleModel",
          "model_module_version": "1.5.0",
          "state": {
            "_model_module": "@jupyter-widgets/controls",
            "_model_module_version": "1.5.0",
            "_model_name": "DescriptionStyleModel",
            "_view_count": null,
            "_view_module": "@jupyter-widgets/base",
            "_view_module_version": "1.2.0",
            "_view_name": "StyleView",
            "description_width": ""
          }
        }
      }
    }
  },
  "cells": [
    {
      "cell_type": "markdown",
      "metadata": {
        "id": "view-in-github",
        "colab_type": "text"
      },
      "source": [
        "<a href=\"https://colab.research.google.com/github/nailamnsr/prototypical-networks-for-few-shot-learning/blob/main/Protonet2.ipynb\" target=\"_parent\"><img src=\"https://colab.research.google.com/assets/colab-badge.svg\" alt=\"Open In Colab\"/></a>"
      ]
    },
    {
      "cell_type": "markdown",
      "source": [
        "#Prototypical Networks\n"
      ],
      "metadata": {
        "id": "2TNYaL9sHH2-"
      }
    },
    {
      "cell_type": "markdown",
      "source": [
        "#importation des libraries\n",
        "\n"
      ],
      "metadata": {
        "id": "ZygASLfn_l3b"
      }
    },
    {
      "cell_type": "code",
      "source": [
        "import numpy as np\n",
        "import matplotlib.pyplot as plt\n",
        "from scipy import ndimage\n",
        "import multiprocessing as mp\n",
        "import os\n",
        "import cv2\n",
        "\n",
        "import torch\n",
        "import torch.nn as nn\n",
        "import torchvision\n",
        "import torch.nn.functional as F\n",
        "import torch.optim as optim\n",
        "from torch.autograd import Variable"
      ],
      "metadata": {
        "id": "v1l83SPR_sUg"
      },
      "execution_count": 1,
      "outputs": []
    },
    {
      "cell_type": "markdown",
      "source": [
        "#checking if GPU is aviable"
      ],
      "metadata": {
        "id": "rysaZXth_vlV"
      }
    },
    {
      "cell_type": "code",
      "source": [
        "print(torch.cuda.is_available())"
      ],
      "metadata": {
        "colab": {
          "base_uri": "https://localhost:8080/"
        },
        "id": "aOFzCo3Q_2Gd",
        "outputId": "c17c6801-5252-47a2-d9e8-b9e15f7f8424"
      },
      "execution_count": 2,
      "outputs": [
        {
          "output_type": "stream",
          "name": "stdout",
          "text": [
            "True\n"
          ]
        }
      ]
    },
    {
      "cell_type": "markdown",
      "source": [
        "# Data imporation"
      ],
      "metadata": {
        "id": "NoPU0r35_R-E"
      }
    },
    {
      "cell_type": "code",
      "source": [
        "from google.colab import files\n",
        "\n",
        "# Demande à l'utilisateur de télécharger kaggle.json\n",
        "uploaded = files.upload()"
      ],
      "metadata": {
        "colab": {
          "base_uri": "https://localhost:8080/",
          "height": 73
        },
        "id": "5wXOe0zWrq0R",
        "outputId": "3057f22c-c44c-4751-9826-8de23b3b2e79"
      },
      "execution_count": 4,
      "outputs": [
        {
          "output_type": "display_data",
          "data": {
            "text/plain": [
              "<IPython.core.display.HTML object>"
            ],
            "text/html": [
              "\n",
              "     <input type=\"file\" id=\"files-f9df5e3d-3415-49ee-a520-c0c369efc77f\" name=\"files[]\" multiple disabled\n",
              "        style=\"border:none\" />\n",
              "     <output id=\"result-f9df5e3d-3415-49ee-a520-c0c369efc77f\">\n",
              "      Upload widget is only available when the cell has been executed in the\n",
              "      current browser session. Please rerun this cell to enable.\n",
              "      </output>\n",
              "      <script>// Copyright 2017 Google LLC\n",
              "//\n",
              "// Licensed under the Apache License, Version 2.0 (the \"License\");\n",
              "// you may not use this file except in compliance with the License.\n",
              "// You may obtain a copy of the License at\n",
              "//\n",
              "//      http://www.apache.org/licenses/LICENSE-2.0\n",
              "//\n",
              "// Unless required by applicable law or agreed to in writing, software\n",
              "// distributed under the License is distributed on an \"AS IS\" BASIS,\n",
              "// WITHOUT WARRANTIES OR CONDITIONS OF ANY KIND, either express or implied.\n",
              "// See the License for the specific language governing permissions and\n",
              "// limitations under the License.\n",
              "\n",
              "/**\n",
              " * @fileoverview Helpers for google.colab Python module.\n",
              " */\n",
              "(function(scope) {\n",
              "function span(text, styleAttributes = {}) {\n",
              "  const element = document.createElement('span');\n",
              "  element.textContent = text;\n",
              "  for (const key of Object.keys(styleAttributes)) {\n",
              "    element.style[key] = styleAttributes[key];\n",
              "  }\n",
              "  return element;\n",
              "}\n",
              "\n",
              "// Max number of bytes which will be uploaded at a time.\n",
              "const MAX_PAYLOAD_SIZE = 100 * 1024;\n",
              "\n",
              "function _uploadFiles(inputId, outputId) {\n",
              "  const steps = uploadFilesStep(inputId, outputId);\n",
              "  const outputElement = document.getElementById(outputId);\n",
              "  // Cache steps on the outputElement to make it available for the next call\n",
              "  // to uploadFilesContinue from Python.\n",
              "  outputElement.steps = steps;\n",
              "\n",
              "  return _uploadFilesContinue(outputId);\n",
              "}\n",
              "\n",
              "// This is roughly an async generator (not supported in the browser yet),\n",
              "// where there are multiple asynchronous steps and the Python side is going\n",
              "// to poll for completion of each step.\n",
              "// This uses a Promise to block the python side on completion of each step,\n",
              "// then passes the result of the previous step as the input to the next step.\n",
              "function _uploadFilesContinue(outputId) {\n",
              "  const outputElement = document.getElementById(outputId);\n",
              "  const steps = outputElement.steps;\n",
              "\n",
              "  const next = steps.next(outputElement.lastPromiseValue);\n",
              "  return Promise.resolve(next.value.promise).then((value) => {\n",
              "    // Cache the last promise value to make it available to the next\n",
              "    // step of the generator.\n",
              "    outputElement.lastPromiseValue = value;\n",
              "    return next.value.response;\n",
              "  });\n",
              "}\n",
              "\n",
              "/**\n",
              " * Generator function which is called between each async step of the upload\n",
              " * process.\n",
              " * @param {string} inputId Element ID of the input file picker element.\n",
              " * @param {string} outputId Element ID of the output display.\n",
              " * @return {!Iterable<!Object>} Iterable of next steps.\n",
              " */\n",
              "function* uploadFilesStep(inputId, outputId) {\n",
              "  const inputElement = document.getElementById(inputId);\n",
              "  inputElement.disabled = false;\n",
              "\n",
              "  const outputElement = document.getElementById(outputId);\n",
              "  outputElement.innerHTML = '';\n",
              "\n",
              "  const pickedPromise = new Promise((resolve) => {\n",
              "    inputElement.addEventListener('change', (e) => {\n",
              "      resolve(e.target.files);\n",
              "    });\n",
              "  });\n",
              "\n",
              "  const cancel = document.createElement('button');\n",
              "  inputElement.parentElement.appendChild(cancel);\n",
              "  cancel.textContent = 'Cancel upload';\n",
              "  const cancelPromise = new Promise((resolve) => {\n",
              "    cancel.onclick = () => {\n",
              "      resolve(null);\n",
              "    };\n",
              "  });\n",
              "\n",
              "  // Wait for the user to pick the files.\n",
              "  const files = yield {\n",
              "    promise: Promise.race([pickedPromise, cancelPromise]),\n",
              "    response: {\n",
              "      action: 'starting',\n",
              "    }\n",
              "  };\n",
              "\n",
              "  cancel.remove();\n",
              "\n",
              "  // Disable the input element since further picks are not allowed.\n",
              "  inputElement.disabled = true;\n",
              "\n",
              "  if (!files) {\n",
              "    return {\n",
              "      response: {\n",
              "        action: 'complete',\n",
              "      }\n",
              "    };\n",
              "  }\n",
              "\n",
              "  for (const file of files) {\n",
              "    const li = document.createElement('li');\n",
              "    li.append(span(file.name, {fontWeight: 'bold'}));\n",
              "    li.append(span(\n",
              "        `(${file.type || 'n/a'}) - ${file.size} bytes, ` +\n",
              "        `last modified: ${\n",
              "            file.lastModifiedDate ? file.lastModifiedDate.toLocaleDateString() :\n",
              "                                    'n/a'} - `));\n",
              "    const percent = span('0% done');\n",
              "    li.appendChild(percent);\n",
              "\n",
              "    outputElement.appendChild(li);\n",
              "\n",
              "    const fileDataPromise = new Promise((resolve) => {\n",
              "      const reader = new FileReader();\n",
              "      reader.onload = (e) => {\n",
              "        resolve(e.target.result);\n",
              "      };\n",
              "      reader.readAsArrayBuffer(file);\n",
              "    });\n",
              "    // Wait for the data to be ready.\n",
              "    let fileData = yield {\n",
              "      promise: fileDataPromise,\n",
              "      response: {\n",
              "        action: 'continue',\n",
              "      }\n",
              "    };\n",
              "\n",
              "    // Use a chunked sending to avoid message size limits. See b/62115660.\n",
              "    let position = 0;\n",
              "    do {\n",
              "      const length = Math.min(fileData.byteLength - position, MAX_PAYLOAD_SIZE);\n",
              "      const chunk = new Uint8Array(fileData, position, length);\n",
              "      position += length;\n",
              "\n",
              "      const base64 = btoa(String.fromCharCode.apply(null, chunk));\n",
              "      yield {\n",
              "        response: {\n",
              "          action: 'append',\n",
              "          file: file.name,\n",
              "          data: base64,\n",
              "        },\n",
              "      };\n",
              "\n",
              "      let percentDone = fileData.byteLength === 0 ?\n",
              "          100 :\n",
              "          Math.round((position / fileData.byteLength) * 100);\n",
              "      percent.textContent = `${percentDone}% done`;\n",
              "\n",
              "    } while (position < fileData.byteLength);\n",
              "  }\n",
              "\n",
              "  // All done.\n",
              "  yield {\n",
              "    response: {\n",
              "      action: 'complete',\n",
              "    }\n",
              "  };\n",
              "}\n",
              "\n",
              "scope.google = scope.google || {};\n",
              "scope.google.colab = scope.google.colab || {};\n",
              "scope.google.colab._files = {\n",
              "  _uploadFiles,\n",
              "  _uploadFilesContinue,\n",
              "};\n",
              "})(self);\n",
              "</script> "
            ]
          },
          "metadata": {}
        },
        {
          "output_type": "stream",
          "name": "stdout",
          "text": [
            "Saving kaggle (1).json to kaggle (1).json\n"
          ]
        }
      ]
    },
    {
      "cell_type": "code",
      "source": [
        "import shutil\n",
        "import os\n",
        "\n",
        "# Renommer correctement le fichier\n",
        "if \"kaggle (1).json\" in os.listdir():\n",
        "    os.rename(\"kaggle (1).json\", \"kaggle.json\")\n",
        "    print(\"✅ Fichier renommé en kaggle.json\")\n",
        "\n",
        "# Assurer que le dossier .kaggle existe\n",
        "os.makedirs(\"/root/.kaggle\", exist_ok=True)\n",
        "\n",
        "# Déplacer le fichier au bon endroit\n",
        "shutil.move(\"kaggle.json\", \"/root/.kaggle/\")\n",
        "os.chmod(\"/root/.kaggle/kaggle.json\", 0o600)\n",
        "\n",
        "print(\"✅ Fichier Kaggle correctement configuré !\")"
      ],
      "metadata": {
        "colab": {
          "base_uri": "https://localhost:8080/"
        },
        "id": "JYEL25oTrtYZ",
        "outputId": "0384d755-2e88-4382-9568-d4ac17ab6d5d"
      },
      "execution_count": 5,
      "outputs": [
        {
          "output_type": "stream",
          "name": "stdout",
          "text": [
            "✅ Fichier renommé en kaggle.json\n",
            "✅ Fichier Kaggle correctement configuré !\n"
          ]
        }
      ]
    },
    {
      "cell_type": "code",
      "execution_count": 6,
      "metadata": {
        "colab": {
          "base_uri": "https://localhost:8080/"
        },
        "id": "ODGxCNN2_N8z",
        "outputId": "14619a44-243f-42bd-b1d3-814e103f2fdd"
      },
      "outputs": [
        {
          "output_type": "stream",
          "name": "stdout",
          "text": [
            "📥 Téléchargement du dataset...\n",
            "Dataset URL: https://www.kaggle.com/datasets/emmarex/plantdisease\n",
            "License(s): unknown\n",
            "✅ Téléchargement terminé.\n",
            "📂 Contenu du dossier : ['Tomato_Septoria_leaf_spot', 'Tomato_Spider_mites_Two_spotted_spider_mite', 'Potato___Early_blight', 'Tomato_healthy', 'Potato___healthy', 'Tomato_Early_blight', 'Tomato_Late_blight', 'Tomato_Bacterial_spot', 'Tomato_Leaf_Mold', 'Pepper__bell___Bacterial_spot', 'Tomato__Target_Spot', 'Tomato__Tomato_mosaic_virus', 'Tomato__Tomato_YellowLeaf__Curl_Virus', 'Potato___Late_blight', 'Pepper__bell___healthy']\n"
          ]
        }
      ],
      "source": [
        "import os\n",
        "import shutil\n",
        "\n",
        "dataset_name = \"PlantVillage\"\n",
        "kaggle_dataset = \"emmarex/plantdisease\"\n",
        "\n",
        "# Vérifier si le dataset est déjà téléchargé\n",
        "if not os.path.exists(dataset_name):\n",
        "    print(\"📥 Téléchargement du dataset...\")\n",
        "    !kaggle datasets download -d {kaggle_dataset} -p . --unzip\n",
        "    print(\"✅ Téléchargement terminé.\")\n",
        "else:\n",
        "    print(\"✔️ Le dataset est déjà présent, pas besoin de télécharger.\")\n",
        "\n",
        "# Vérifier et corriger l'organisation des fichiers\n",
        "if os.path.exists(f\"{dataset_name}/{dataset_name}\"):\n",
        "    print(\"🔧 Correction de l'organisation des fichiers...\")\n",
        "    shutil.move(f\"{dataset_name}/{dataset_name}\", \"PlantVillage_temp\")\n",
        "    shutil.rmtree(dataset_name)\n",
        "    shutil.move(\"PlantVillage_temp\", dataset_name)\n",
        "    print(\"✅ Organisation corrigée.\")\n",
        "\n",
        "# Afficher le contenu final\n",
        "print(\"📂 Contenu du dossier :\", os.listdir(dataset_name))\n"
      ]
    },
    {
      "cell_type": "markdown",
      "source": [
        "#Préparation du Dataset"
      ],
      "metadata": {
        "id": "H1xlE3QEBmFo"
      }
    },
    {
      "cell_type": "code",
      "source": [
        "import os\n",
        "import torch\n",
        "import shutil\n",
        "from torchvision import transforms\n",
        "from PIL import Image\n",
        "from torch.utils.data import Dataset, DataLoader\n",
        "import random\n",
        "\n",
        "# 📌 Définition des transformations\n",
        "transform = transforms.Compose([\n",
        "    transforms.RandomResizedCrop(128, scale=(0.8, 1.0)),  # Recadrage aléatoire avec zoom\n",
        "    transforms.RandomHorizontalFlip(p=0.5),  # Flip horizontal avec probabilité de 50%\n",
        "    transforms.RandomRotation(20),  # Rotation aléatoire entre -20° et 20°\n",
        "    transforms.ColorJitter(brightness=0.2, contrast=0.2, saturation=0.2, hue=0.1),  # Variations de couleur\n",
        "    transforms.RandomAffine(degrees=0, translate=(0.1, 0.1)),  # Petits décalages horizontaux et verticaux\n",
        "    transforms.ToTensor(),\n",
        "    transforms.Normalize(mean=[0.5], std=[0.5]), # valeurs entre -1 et 1,\n",
        "    transforms.Resize((64, 64)),  # Réduire la taille des images\n",
        "\n",
        "])\n",
        "\n",
        "# 📌 Définition d'une classe Dataset personnalisée\n",
        "class PlantVillageDataset(Dataset):\n",
        "    def __init__(self, root_dir, transform=None):\n",
        "        self.root_dir = root_dir\n",
        "        self.transform = transform\n",
        "        self.classes = sorted(os.listdir(root_dir))  # Liste des classes\n",
        "        self.data = []\n",
        "\n",
        "        # Lire les images et associer chaque classe à un label\n",
        "        for label, class_name in enumerate(self.classes):\n",
        "            class_path = os.path.join(root_dir, class_name)\n",
        "            if os.path.isdir(class_path):\n",
        "                for img_name in os.listdir(class_path):\n",
        "                    img_path = os.path.join(class_path, img_name)\n",
        "                    self.data.append((img_path, label))\n",
        "\n",
        "    def __len__(self):\n",
        "        return len(self.data)\n",
        "\n",
        "    def __getitem__(self, idx):\n",
        "        img_path, label = self.data[idx]\n",
        "        image = Image.open(img_path).convert(\"RGB\")\n",
        "        if self.transform:\n",
        "            image = self.transform(image)\n",
        "        return image, label\n",
        "\n",
        "# 📌 1️⃣ Définition des chemins\n",
        "dataset_path = \"PlantVillage\"  # Dossier original\n",
        "train_path = \"PlantVillage/train\"\n",
        "test_path = \"PlantVillage/test\"\n",
        "\n",
        "# 📌 2️⃣ Sélection des classes\n",
        "all_classes = os.listdir(dataset_path)\n",
        "random.shuffle(all_classes)\n",
        "train_classes = all_classes[:10]\n",
        "test_classes = all_classes[10:15]\n",
        "\n",
        "# 📌 3️⃣ Création des dossiers train et test\n",
        "os.makedirs(train_path, exist_ok=True)\n",
        "os.makedirs(test_path, exist_ok=True)\n",
        "\n",
        "for class_name in train_classes:\n",
        "    src = os.path.join(dataset_path, class_name)\n",
        "    dst = os.path.join(train_path, class_name)\n",
        "    shutil.copytree(src, dst, dirs_exist_ok=True)  # Copie sans supprimer l'original\n",
        "\n",
        "for class_name in test_classes:\n",
        "    src = os.path.join(dataset_path, class_name)\n",
        "    dst = os.path.join(test_path, class_name)\n",
        "    shutil.copytree(src, dst, dirs_exist_ok=True)\n",
        "\n",
        "print(\"✅ Dataset divisé avec succès !\")\n",
        "print(\"📂 Classes Train :\", train_classes)\n",
        "print(\"📂 Classes Test :\", test_classes)\n",
        "\n",
        "# 📌 4️⃣ Chargement des datasets\n",
        "train_dataset = PlantVillageDataset(train_path, transform=transform)\n",
        "test_dataset = PlantVillageDataset(test_path, transform=transform)\n",
        "\n",
        "# 📌 5️⃣ Vérifier la structure du dataset\n",
        "print(f\"Nombre total d'images dans TRAIN : {len(train_dataset)}\")\n",
        "print(f\"Nombre total d'images dans TEST : {len(test_dataset)}\")\n",
        "\n",
        "# 📌 6️⃣ Afficher un exemple d'image\n",
        "sample_img, sample_label = train_dataset[0]\n",
        "print(f\"Taille de l'image : {sample_img.shape}, Label : {sample_label}\")\n"
      ],
      "metadata": {
        "colab": {
          "base_uri": "https://localhost:8080/"
        },
        "id": "d2ptweS7BlN6",
        "outputId": "11a85548-47ae-4e31-e979-435f9fa8efed"
      },
      "execution_count": 25,
      "outputs": [
        {
          "output_type": "stream",
          "name": "stdout",
          "text": [
            "✅ Dataset divisé avec succès !\n",
            "📂 Classes Train : ['train', 'Tomato_Leaf_Mold', 'Tomato_Late_blight', 'Tomato_Early_blight', 'Tomato_healthy', 'Pepper__bell___healthy', 'Potato___healthy', 'Tomato__Tomato_mosaic_virus', 'Potato___Early_blight', 'Tomato__Target_Spot']\n",
            "📂 Classes Test : ['test', 'Pepper__bell___Bacterial_spot', 'Tomato_Septoria_leaf_spot', 'Potato___Late_blight', 'Tomato_Spider_mites_Two_spotted_spider_mite']\n",
            "Nombre total d'images dans TRAIN : 14313\n",
            "Nombre total d'images dans TEST : 11889\n",
            "Taille de l'image : torch.Size([3, 64, 64]), Label : 0\n"
          ]
        }
      ]
    },
    {
      "cell_type": "markdown",
      "source": [
        "#Visualisation d'échantillons"
      ],
      "metadata": {
        "id": "2WR31mnpB6ri"
      }
    },
    {
      "cell_type": "code",
      "source": [
        "import matplotlib.pyplot as plt\n",
        "import random\n",
        "\n",
        "# Afficher quelques images aléatoires du dataset\n",
        "fig, axes = plt.subplots(2, 5, figsize=(10, 5))\n",
        "\n",
        "for ax in axes.flat:\n",
        "    idx = random.randint(0, len(train_dataset) - 1)\n",
        "    img, label = train_dataset[idx]\n",
        "    ax.imshow(img.permute(1, 2, 0))  # Convertir le format pour affichage\n",
        "    ax.set_title(f\"Classe: {train_dataset.classes[label]}\")\n",
        "    ax.axis(\"off\")\n",
        "\n",
        "plt.show()"
      ],
      "metadata": {
        "colab": {
          "base_uri": "https://localhost:8080/",
          "height": 576
        },
        "id": "JC3A7ijcB8F2",
        "outputId": "72a941f9-006d-4c91-aae5-5cde60a24373"
      },
      "execution_count": 26,
      "outputs": [
        {
          "output_type": "stream",
          "name": "stderr",
          "text": [
            "WARNING:matplotlib.image:Clipping input data to the valid range for imshow with RGB data ([0..1] for floats or [0..255] for integers). Got range [-1.0..0.29754904].\n",
            "WARNING:matplotlib.image:Clipping input data to the valid range for imshow with RGB data ([0..1] for floats or [0..255] for integers). Got range [-1.0..0.19926476].\n",
            "WARNING:matplotlib.image:Clipping input data to the valid range for imshow with RGB data ([0..1] for floats or [0..255] for integers). Got range [-1.0..0.5470589].\n",
            "WARNING:matplotlib.image:Clipping input data to the valid range for imshow with RGB data ([0..1] for floats or [0..255] for integers). Got range [-1.0..0.5740197].\n",
            "WARNING:matplotlib.image:Clipping input data to the valid range for imshow with RGB data ([0..1] for floats or [0..255] for integers). Got range [-1.0..0.36162472].\n",
            "WARNING:matplotlib.image:Clipping input data to the valid range for imshow with RGB data ([0..1] for floats or [0..255] for integers). Got range [-1.0..0.5865196].\n",
            "WARNING:matplotlib.image:Clipping input data to the valid range for imshow with RGB data ([0..1] for floats or [0..255] for integers). Got range [-1.0..0.7020834].\n",
            "WARNING:matplotlib.image:Clipping input data to the valid range for imshow with RGB data ([0..1] for floats or [0..255] for integers). Got range [-1.0..0.92801124].\n",
            "WARNING:matplotlib.image:Clipping input data to the valid range for imshow with RGB data ([0..1] for floats or [0..255] for integers). Got range [-1.0..0.9558824].\n",
            "WARNING:matplotlib.image:Clipping input data to the valid range for imshow with RGB data ([0..1] for floats or [0..255] for integers). Got range [-1.0..0.4678922].\n"
          ]
        },
        {
          "output_type": "display_data",
          "data": {
            "text/plain": [
              "<Figure size 1000x500 with 10 Axes>"
            ],
            "image/png": "[encoded data removed]"
          },
          "metadata": {}
        }
      ]
    },
    {
      "cell_type": "markdown",
      "source": [
        "#Création des DataLoaders"
      ],
      "metadata": {
        "id": "epGvUQl_B_Kc"
      }
    },
    {
      "cell_type": "code",
      "source": [
        "from torch.utils.data import DataLoader\n",
        "\n",
        "# Définition des paramètres\n",
        "batch_size = 32  # On peut ajuster selon la mémoire dispo\n",
        "shuffle = True  # Mélanger les données pour éviter le sur-apprentissage\n",
        "\n",
        "# Création du DataLoader\n",
        "train_loader = DataLoader(train_dataset, batch_size=batch_size, shuffle=shuffle, drop_last=True)\n",
        "test_loader = DataLoader(test_dataset, batch_size=batch_size, shuffle=False, drop_last=True)\n",
        "\n",
        "# Vérification\n",
        "for images, labels in train_loader:\n",
        "    print(f\"Taille du batch: {images.shape}, Labels: {labels.shape}\")\n",
        "    break  # On affiche juste un batch pour tester\n"
      ],
      "metadata": {
        "colab": {
          "base_uri": "https://localhost:8080/"
        },
        "id": "jRSRj13hCejK",
        "outputId": "130b6b0f-ae6b-4fb4-c66a-448e11143b93"
      },
      "execution_count": 27,
      "outputs": [
        {
          "output_type": "stream",
          "name": "stdout",
          "text": [
            "Taille du batch: torch.Size([32, 3, 64, 64]), Labels: torch.Size([32])\n"
          ]
        }
      ]
    },
    {
      "cell_type": "markdown",
      "source": [
        "#Lecture des donnes"
      ],
      "metadata": {
        "id": "JRwUy_6iCiGc"
      }
    },
    {
      "cell_type": "code",
      "source": [
        "from multiprocessing import Pool, cpu_count\n",
        "def read_class_images(class_directory_path, class_name):\n",
        "    \"\"\"\n",
        "    Lit toutes les images d'une classe (maladie des plantes).\n",
        "    \"\"\"\n",
        "    datax = []\n",
        "    datay = []\n",
        "\n",
        "    valid_extensions = (\".jpg\", \".jpeg\", \".png\", \".bmp\", \".gif\")  # Extensions valides\n",
        "    images = os.listdir(class_directory_path)\n",
        "\n",
        "    for img in images:\n",
        "        img_path = os.path.join(class_directory_path, img)\n",
        "\n",
        "        # Vérifier si le fichier a une extension valide\n",
        "        if not img.lower().endswith(valid_extensions):\n",
        "            print(f\"⚠️ Fichier ignoré : {img_path}\")\n",
        "            continue\n",
        "\n",
        "        try:\n",
        "            # Ouvrir l'image avec PIL et appliquer les transformations\n",
        "            image = Image.open(img_path).convert(\"RGB\")\n",
        "            image = transform(image)  # Appliquer les transformations\n",
        "\n",
        "            datax.append(image)\n",
        "            datay.append(class_name)  # On garde le nom de la classe comme label\n",
        "\n",
        "        except Exception as e:\n",
        "            print(f\"❌ Erreur lors de la lecture de {img_path}: {e}\")\n",
        "\n",
        "    return datax, datay\n",
        "\n",
        "\n"
      ],
      "metadata": {
        "id": "loecu1fVCn5t"
      },
      "execution_count": 28,
      "outputs": []
    },
    {
      "cell_type": "code",
      "source": [
        "def read_images(base_directory):\n",
        "    \"\"\"\n",
        "    Lit toutes les classes depuis PlantVillage en utilisant du multiprocessing.\n",
        "    \"\"\"\n",
        "    datax = []\n",
        "    datay = []\n",
        "\n",
        "    classes = os.listdir(base_directory)\n",
        "    pool = Pool(cpu_count())\n",
        "\n",
        "    results = pool.starmap(read_class_images, [(os.path.join(base_directory, class_name), class_name) for class_name in classes])\n",
        "\n",
        "    pool.close()\n",
        "    pool.join()\n",
        "\n",
        "    for result in results:\n",
        "        datax.extend(result[0])\n",
        "        datay.extend(result[1])\n",
        "\n",
        "    return np.array(datax), np.array(datay)"
      ],
      "metadata": {
        "id": "LTdyDXXoCrGk"
      },
      "execution_count": 29,
      "outputs": []
    },
    {
      "cell_type": "markdown",
      "source": [
        "#Chargement final des données"
      ],
      "metadata": {
        "id": "kFfEmqOPC1XS"
      }
    },
    {
      "cell_type": "code",
      "source": [
        "train_path = \"PlantVillage/train\"\n",
        "test_path = \"PlantVillage/test\"\n",
        "\n",
        "trainx, trainy = read_images(train_path)\n",
        "testx, testy = read_images(test_path)\n",
        "\n",
        "# 📌 Vérification\n",
        "print(f\"✅ trainx shape: {trainx.shape}, trainy shape: {trainy.shape}\")\n",
        "print(f\"✅ testx shape: {testx.shape}, testy shape: {testy.shape}\")"
      ],
      "metadata": {
        "colab": {
          "base_uri": "https://localhost:8080/"
        },
        "id": "SJVzGjDXC2V0",
        "outputId": "8ed36752-1b53-4dbc-959a-956abda75ca8"
      },
      "execution_count": 30,
      "outputs": [
        {
          "output_type": "stream",
          "name": "stdout",
          "text": [
            "⚠️ Fichier ignoré : PlantVillage/train/train/Tomato_Septoria_leaf_spot\n",
            "⚠️ Fichier ignoré : PlantVillage/train/train/Tomato_Spider_mites_Two_spotted_spider_mite\n",
            "⚠️ Fichier ignoré : PlantVillage/train/train/Potato___Early_blight\n",
            "⚠️ Fichier ignoré : PlantVillage/train/train/Tomato_healthy\n",
            "⚠️ Fichier ignoré : PlantVillage/train/train/Tomato_Early_blight\n",
            "⚠️ Fichier ignoré : PlantVillage/train/train/Tomato_Late_blight\n",
            "⚠️ Fichier ignoré : PlantVillage/train/train/Pepper__bell___Bacterial_spot\n",
            "⚠️ Fichier ignoré : PlantVillage/train/train/Tomato__Target_Spot\n",
            "⚠️ Fichier ignoré : PlantVillage/train/train/Tomato__Tomato_mosaic_virus\n",
            "⚠️ Fichier ignoré : PlantVillage/train/train/Pepper__bell___healthy\n",
            "⚠️ Fichier ignoré : PlantVillage/test/test/Potato___healthy\n",
            "⚠️ Fichier ignoré : PlantVillage/test/test/Tomato_Bacterial_spot\n",
            "⚠️ Fichier ignoré : PlantVillage/test/test/Tomato_Leaf_Mold\n",
            "⚠️ Fichier ignoré : PlantVillage/test/test/Tomato__Tomato_YellowLeaf__Curl_Virus\n",
            "⚠️ Fichier ignoré : PlantVillage/test/test/Potato___Late_blight\n",
            "⚠️ Fichier ignoré : PlantVillage/test/Tomato__Tomato_YellowLeaf__Curl_Virus/svn-r6Yb5c\n",
            "✅ trainx shape: (14303, 3, 64, 64), trainy shape: (14303,)\n",
            "✅ testx shape: (11883, 3, 64, 64), testy shape: (11883,)\n"
          ]
        }
      ]
    },
    {
      "cell_type": "markdown",
      "source": [
        "#creation des samples"
      ],
      "metadata": {
        "id": "zLL6CYNZDjHN"
      }
    },
    {
      "cell_type": "code",
      "source": [
        "import numpy as np\n",
        "import torch\n",
        "import torchvision\n",
        "import matplotlib.pyplot as plt\n",
        "\n",
        "def extract_sample(n_way, n_support, n_query, datax, datay):\n",
        "    \"\"\"\n",
        "    Sélectionne un échantillon de taille (n_way, n_support + n_query) pour chaque classe.\n",
        "\n",
        "    Args:\n",
        "        n_way (int): Nombre de classes à sélectionner\n",
        "        n_support (int): Nombre d'exemples par classe pour l'ensemble support\n",
        "        n_query (int): Nombre d'exemples par classe pour l'ensemble query\n",
        "        datax (np.array): Tableau numpy des images sous forme (N, C, H, W)\n",
        "        datay (np.array): Tableau numpy des labels associés (N,)\n",
        "\n",
        "    Returns:\n",
        "        dict:\n",
        "            - images (torch.Tensor): Tensor (n_way, n_support+n_query, C, H, W)\n",
        "            - n_way, n_support, n_query (int)\n",
        "    \"\"\"\n",
        "    datax = np.array(datax)  # S'assurer que c'est un np.array\n",
        "    datay = np.array(datay)\n",
        "\n",
        "    sample = []\n",
        "    classes = np.unique(datay)  # Obtenir les classes uniques\n",
        "\n",
        "    # Sélectionner n_way classes aléatoires\n",
        "    chosen_classes = np.random.choice(classes, n_way, replace=False)\n",
        "\n",
        "    for cls in chosen_classes:\n",
        "        # Indices des images correspondant à la classe\n",
        "        class_indices = np.where(datay == cls)[0]\n",
        "\n",
        "        # Sélectionner les images correspondantes\n",
        "        datax_cls = datax[class_indices]\n",
        "\n",
        "        # Mélanger les images pour éviter un biais\n",
        "        perm = np.random.permutation(len(datax_cls))\n",
        "\n",
        "        # Prendre n_support + n_query images\n",
        "        sample_cls = datax_cls[perm[:(n_support + n_query)]]\n",
        "\n",
        "        sample.append(sample_cls)\n",
        "\n",
        "    # Convertir en numpy array\n",
        "    sample = np.array(sample)  # Shape: (n_way, n_support+n_query, C, H, W)\n",
        "\n",
        "    # Conversion en tensor PyTorch\n",
        "    sample = torch.from_numpy(sample).float()\n",
        "\n",
        "    return {\n",
        "        'images': sample,\n",
        "        'n_way': n_way,\n",
        "        'n_support': n_support,\n",
        "        'n_query': n_query\n",
        "    }"
      ],
      "metadata": {
        "id": "PEch5moADmMT"
      },
      "execution_count": 31,
      "outputs": []
    },
    {
      "cell_type": "code",
      "source": [
        "def display_sample(sample):\n",
        "    \"\"\"\n",
        "    Affiche un échantillon sous forme de grille.\n",
        "\n",
        "    Args:\n",
        "        sample (torch.Tensor): Échantillon d'images à afficher\n",
        "    \"\"\"\n",
        "    # Convertir en 4D (batch, C, H, W) pour `make_grid`\n",
        "    sample_4D = sample.view(sample.shape[0] * sample.shape[1], *sample.shape[2:])\n",
        "\n",
        "    # Créer une grille d'images\n",
        "    out = torchvision.utils.make_grid(sample_4D, nrow=sample.shape[1])\n",
        "\n",
        "    # Affichage\n",
        "    plt.figure(figsize=(16, 7))\n",
        "    plt.imshow(out.permute(1, 2, 0))\n",
        "    plt.axis('off')\n",
        "    plt.show()\n"
      ],
      "metadata": {
        "id": "40g1XoeEDp22"
      },
      "execution_count": 32,
      "outputs": []
    },
    {
      "cell_type": "markdown",
      "source": [
        "#Model"
      ],
      "metadata": {
        "id": "-Pb2cof6Dzjy"
      }
    },
    {
      "cell_type": "code",
      "source": [
        "import torch\n",
        "import torch.nn as nn\n",
        "import torch.nn.functional as F\n",
        "\n",
        "class ProtoNet(nn.Module):\n",
        "    def __init__(self, encoder):\n",
        "        \"\"\"\n",
        "        Args:\n",
        "            encoder : CNN encodant les images du dataset\n",
        "        \"\"\"\n",
        "        super(ProtoNet, self).__init__()\n",
        "        self.device = torch.device(\"cuda\" if torch.cuda.is_available() else \"cpu\")\n",
        "        self.encoder = encoder.to(self.device)\n",
        "\n",
        "    def forward(self, x):\n",
        "        \"\"\"Encode directement les images avec le CNN\"\"\"\n",
        "        return self.encoder(x.to(self.device))\n",
        "\n",
        "    def set_forward_loss(self, sample):\n",
        "        \"\"\"\n",
        "        Calcule la perte et l'accuracy du modèle.\n",
        "        Args:\n",
        "            sample (dict): contient 'images' (Tensor), n_way, n_support, n_query\n",
        "        Returns:\n",
        "            loss, {'loss': loss, 'acc': accuracy, 'y_hat': predictions}\n",
        "        \"\"\"\n",
        "        sample_images = sample['images'].to(self.device)\n",
        "        n_way, n_support, n_query = sample['n_way'], sample['n_support'], sample['n_query']\n",
        "\n",
        "        # Séparer support et query\n",
        "        x_support = sample_images[:, :n_support]  # (n_way, n_support, C, H, W)\n",
        "        x_query = sample_images[:, n_support:]    # (n_way, n_query, C, H, W)\n",
        "\n",
        "        # Indices cibles\n",
        "        target_inds = torch.arange(n_way).view(n_way, 1).expand(n_way, n_query).to(self.device)\n",
        "\n",
        "        # Encoder les images (support + query)\n",
        "        x = torch.cat([x_support.reshape(n_way * n_support, *x_support.shape[2:]),\n",
        "                       x_query.reshape(n_way * n_query, *x_query.shape[2:])], dim=0)\n",
        "        z = self.encoder(x)\n",
        "\n",
        "        # Définir les prototypes\n",
        "        z_dim = z.size(-1)  # Taille de l'espace de sortie\n",
        "        z_proto = z[:n_way * n_support].view(n_way, n_support, z_dim).mean(dim=1)  # (n_way, z_dim)\n",
        "        z_query = z[n_way * n_support:]  # (n_way * n_query, z_dim)\n",
        "\n",
        "        # Calcul des distances euclidiennes\n",
        "        dists = euclidean_dist(z_query, z_proto)  # (n_way * n_query, n_way)\n",
        "\n",
        "        # Probabilités\n",
        "        log_p_y = F.log_softmax(-dists, dim=1).view(n_way, n_query, -1)\n",
        "\n",
        "        # Calcul de la loss\n",
        "        loss_val = -log_p_y.gather(2, target_inds.unsqueeze(-1)).squeeze().mean()\n",
        "\n",
        "        # Prédictions et accuracy\n",
        "        _, y_hat = log_p_y.max(2)\n",
        "        acc_val = torch.eq(y_hat, target_inds).float().mean()\n",
        "\n",
        "        return loss_val, {\n",
        "            'loss': loss_val.item(),\n",
        "            'acc': acc_val.item(),\n",
        "            'y_hat': y_hat\n",
        "        }"
      ],
      "metadata": {
        "id": "QT9lGUbAFxDz"
      },
      "execution_count": 33,
      "outputs": []
    },
    {
      "cell_type": "markdown",
      "source": [
        "#differente implentaions du CNN ppour tester la plus efficace"
      ],
      "metadata": {
        "id": "5wCBI6XAGGRf"
      }
    },
    {
      "cell_type": "markdown",
      "source": [
        "EfficientNet"
      ],
      "metadata": {
        "id": "_ubz52OKMhCs"
      }
    },
    {
      "cell_type": "code",
      "source": [
        "def load_protonet_conveff(model_name=\"efficientnet_b0\", z_dim=64, fine_tune=True):\n",
        "    \"\"\"\n",
        "    Charge un modèle ProtoNet basé sur EfficientNet avec fine-tuning optionnel.\n",
        "    \"\"\"\n",
        "    efficientnet = getattr(models, model_name)(pretrained=True)\n",
        "\n",
        "    if fine_tune:\n",
        "        for param in efficientnet.parameters():\n",
        "            param.requires_grad = False  # On freeze toutes les couches sauf la dernière\n",
        "\n",
        "    # Remplacer la dernière couche FC par un embedding de dimension z_dim\n",
        "    efficientnet.classifier = nn.Sequential(\n",
        "        nn.Linear(efficientnet.classifier[1].in_features, 256),\n",
        "        nn.BatchNorm1d(256),\n",
        "        nn.ReLU(inplace=True),\n",
        "        nn.Dropout(0.4),\n",
        "        nn.Linear(256, z_dim),\n",
        "        nn.BatchNorm1d(z_dim)\n",
        "    )\n",
        "\n",
        "    return ProtoNet(efficientnet, z_dim)"
      ],
      "metadata": {
        "id": "lPJTcuEkMkpG"
      },
      "execution_count": null,
      "outputs": []
    },
    {
      "cell_type": "markdown",
      "source": [
        "ResNet18"
      ],
      "metadata": {
        "id": "oznqwMvPF1N2"
      }
    },
    {
      "cell_type": "code",
      "source": [
        "def load_protonet_convres(model_name='resnet18', z_dim=64, fine_tune=True):\n",
        "    \"\"\"\n",
        "    Charge un modèle ProtoNet basé sur ResNet avec fine-tuning optionnel.\n",
        "    \"\"\"\n",
        "    resnet = getattr(models, model_name)(pretrained=True)\n",
        "\n",
        "    if fine_tune:\n",
        "        for param in list(resnet.parameters())[:-5]:\n",
        "            param.requires_grad = False\n",
        "\n",
        "    resnet.fc = nn.Sequential(\n",
        "        nn.Linear(resnet.fc.in_features, 256),\n",
        "        nn.BatchNorm1d(256),\n",
        "        nn.ReLU(inplace=True),\n",
        "        nn.Dropout(0.4),\n",
        "        nn.Linear(256, z_dim),\n",
        "        nn.BatchNorm1d(z_dim)\n",
        "    )\n",
        "\n",
        "    return ProtoNet(resnet, z_dim)"
      ],
      "metadata": {
        "id": "FvAGZoMpF4Mm"
      },
      "execution_count": null,
      "outputs": []
    },
    {
      "cell_type": "markdown",
      "source": [
        "mobileNet"
      ],
      "metadata": {
        "id": "jOaLv41OJCuC"
      }
    },
    {
      "cell_type": "code",
      "source": [
        "def load_protonet_conv_mobilenet(z_dim=64, fine_tune=True):\n",
        "    \"\"\"\n",
        "    Charge un modèle ProtoNet basé sur MobileNet avec fine-tuning optionnel.\n",
        "    \"\"\"\n",
        "    mobilenet = models.mobilenet_v2(pretrained=True)\n",
        "\n",
        "    if fine_tune:\n",
        "        for param in mobilenet.features.parameters():\n",
        "            param.requires_grad = False\n",
        "\n",
        "    mobilenet.classifier = nn.Sequential(\n",
        "        nn.Linear(mobilenet.last_channel, 256),\n",
        "        nn.BatchNorm1d(256),\n",
        "        nn.ReLU(inplace=True),\n",
        "        nn.Dropout(0.4),\n",
        "        nn.Linear(256, z_dim),\n",
        "        nn.BatchNorm1d(z_dim)\n",
        "    )\n",
        "\n",
        "    return ProtoNet(mobilenet, z_dim)"
      ],
      "metadata": {
        "id": "gyMnrSQHJE_j"
      },
      "execution_count": null,
      "outputs": []
    },
    {
      "cell_type": "markdown",
      "source": [
        "CNN Simple"
      ],
      "metadata": {
        "id": "YMhrzUg2FiZi"
      }
    },
    {
      "cell_type": "code",
      "source": [
        "import torch\n",
        "import torch.nn as nn\n",
        "import torch.nn.functional as F\n",
        "\n",
        "class Flatten(nn.Module):\n",
        "    def __init__(self):\n",
        "        super(Flatten, self).__init__()\n",
        "\n",
        "    def forward(self, x):\n",
        "        return x.view(x.size(0), -1)\n",
        "\n",
        "def load_protonet_conv(**kwargs):\n",
        "    \"\"\"\n",
        "    Charge le modèle de Prototypical Network adapté à PlantVillage.\n",
        "    Args:\n",
        "        x_dim (tuple): dimensions des images (par défaut (3, 128, 128))\n",
        "        hid_dim (int): dimension des couches cachées\n",
        "        z_dim (int): dimension de l’espace de sortie\n",
        "    Returns:\n",
        "        ProtoNet: modèle Prototypical Network\n",
        "    \"\"\"\n",
        "    x_dim = kwargs.get('x_dim', (3, 128, 128))  # 3 canaux (RGB), 128x128\n",
        "    hid_dim = kwargs.get('hid_dim', 64)\n",
        "    z_dim = kwargs.get('z_dim', 64)\n",
        "\n",
        "    def conv_block(in_channels, out_channels):\n",
        "        return nn.Sequential(\n",
        "            nn.Conv2d(in_channels, out_channels, kernel_size=3, padding=1),\n",
        "            nn.BatchNorm2d(out_channels),\n",
        "            nn.ReLU(),\n",
        "            nn.MaxPool2d(kernel_size=2)\n",
        "        )\n",
        "\n",
        "    encoder = nn.Sequential(\n",
        "        conv_block(x_dim[0], hid_dim),  # (3, 128, 128) → (hid_dim, 64, 64)\n",
        "        conv_block(hid_dim, hid_dim),   # (hid_dim, 64, 64) → (hid_dim, 32, 32)\n",
        "        conv_block(hid_dim, hid_dim),   # (hid_dim, 32, 32) → (hid_dim, 16, 16)\n",
        "        conv_block(hid_dim, z_dim),     # (hid_dim, 16, 16) → (z_dim, 8, 8)\n",
        "        Flatten()                       # Mise à plat pour le classifieur\n",
        "    )\n",
        "\n",
        "    return ProtoNet(encoder)\n"
      ],
      "metadata": {
        "id": "nUgtor-dD2NA"
      },
      "execution_count": 34,
      "outputs": []
    },
    {
      "cell_type": "code",
      "source": [
        "def euclidean_dist(x, y):\n",
        "    \"\"\"\n",
        "    Calcule la distance euclidienne entre x et y.\n",
        "    Args:\n",
        "        x (torch.Tensor): shape (n, d) - n = n_way * n_query\n",
        "        y (torch.Tensor): shape (m, d) - m = n_way\n",
        "    Returns:\n",
        "        torch.Tensor: shape(n, m) - distances de chaque query à chaque prototype\n",
        "    \"\"\"\n",
        "    n, d = x.shape\n",
        "    m, _ = y.shape\n",
        "    assert d == y.shape[1]\n",
        "\n",
        "    # Expand dimensions pour le broadcast\n",
        "    x = x.unsqueeze(1).expand(n, m, d)  # (n, m, d)\n",
        "    y = y.unsqueeze(0).expand(n, m, d)  # (n, m, d)\n",
        "\n",
        "    return torch.pow(x - y, 2).sum(dim=2)  # (n,"
      ],
      "metadata": {
        "id": "EEZRbQAzGmzU"
      },
      "execution_count": 35,
      "outputs": []
    },
    {
      "cell_type": "markdown",
      "source": [
        "#Train"
      ],
      "metadata": {
        "id": "7Sf9GgkvGsYE"
      }
    },
    {
      "cell_type": "code",
      "source": [
        "from tqdm import tqdm\n",
        "import torch.optim as optim"
      ],
      "metadata": {
        "id": "XkNuMs3ZGt8R"
      },
      "execution_count": 36,
      "outputs": []
    },
    {
      "cell_type": "code",
      "source": [
        "def train(model, optimizer, train_x, train_y, n_way, n_support, n_query, max_epoch, epoch_size):\n",
        "    \"\"\"\n",
        "    Entraîne le Prototypical Network.\n",
        "    Args:\n",
        "        model : modèle ProtoNet\n",
        "        optimizer : optimiseur (Adam, SGD, etc.)\n",
        "        train_x (np.array) : images du dataset d'entraînement\n",
        "        train_y (np.array) : labels du dataset d'entraînement\n",
        "        n_way (int) : nombre de classes par tâche\n",
        "        n_support (int) : nombre d'exemples de support par classe\n",
        "        n_query (int) : nombre d'exemples de query par classe\n",
        "        max_epoch (int) : nombre d'époques\n",
        "        epoch_size (int) : nombre d'épisodes par époque\n",
        "    \"\"\"\n",
        "    scheduler = optim.lr_scheduler.StepLR(optimizer, step_size=1, gamma=0.5)\n",
        "    epoch = 0\n",
        "\n",
        "    while epoch < max_epoch:\n",
        "        running_loss = 0.0\n",
        "        running_acc = 0.0\n",
        "\n",
        "        for _ in tqdm(range(epoch_size), desc=f\"Époch {epoch+1}/{max_epoch}\"):\n",
        "            sample = extract_sample(n_way, n_support, n_query, train_x, train_y)\n",
        "            optimizer.zero_grad()\n",
        "            loss, output = model.set_forward_loss(sample)\n",
        "            running_loss += output['loss']\n",
        "            running_acc += output['acc']\n",
        "            loss.backward()\n",
        "            optimizer.step()\n",
        "\n",
        "        epoch_loss = running_loss / epoch_size\n",
        "        epoch_acc = running_acc / epoch_size\n",
        "        print(f\"Époch {epoch+1} -- Loss: {epoch_loss:.4f} Acc: {epoch_acc:.4f}\")\n",
        "\n",
        "        epoch += 1\n",
        "        scheduler.step()"
      ],
      "metadata": {
        "id": "zsUvXrtcGv8K"
      },
      "execution_count": 37,
      "outputs": []
    },
    {
      "cell_type": "markdown",
      "source": [
        "train (CNN simple)\n"
      ],
      "metadata": {
        "id": "Nhe8plVqIg0X"
      }
    },
    {
      "cell_type": "code",
      "source": [
        "%%time\n",
        "\n",
        "model = load_protonet_conv(\n",
        "    x_dim=(3, 64, 64),  # Taille des images 64x64x3\n",
        "    hid_dim=64,\n",
        "    z_dim=64,\n",
        ")\n",
        "\n",
        "optimizer = optim.Adam(model.parameters(), lr=0.001)\n",
        "\n",
        "# Ajuster n_way selon le nombre de classes\n",
        "n_way = 10\n",
        "n_support = 20\n",
        "n_query = 20\n",
        "\n",
        "max_epoch = 20 # modifier avec 50\n",
        "epoch_size = 500  # Réduire si RAM insuffisante\n",
        "\n",
        "train(model, optimizer, trainx, trainy, n_way, n_support, n_query, max_epoch, epoch_size)\n"
      ],
      "metadata": {
        "colab": {
          "base_uri": "https://localhost:8080/"
        },
        "id": "BZ60pVbwGzJH",
        "outputId": "7b466cd2-bbb1-487a-984b-0a02fff5ca2a"
      },
      "execution_count": 38,
      "outputs": [
        {
          "output_type": "stream",
          "name": "stderr",
          "text": [
            "Époch 1/20: 100%|██████████| 500/500 [04:08<00:00,  2.01it/s]\n"
          ]
        },
        {
          "output_type": "stream",
          "name": "stdout",
          "text": [
            "Époch 1 -- Loss: 1.7514 Acc: 0.6374\n"
          ]
        },
        {
          "output_type": "stream",
          "name": "stderr",
          "text": [
            "Époch 2/20: 100%|██████████| 500/500 [04:07<00:00,  2.02it/s]\n"
          ]
        },
        {
          "output_type": "stream",
          "name": "stdout",
          "text": [
            "Époch 2 -- Loss: 0.5242 Acc: 0.8180\n"
          ]
        },
        {
          "output_type": "stream",
          "name": "stderr",
          "text": [
            "Époch 3/20: 100%|██████████| 500/500 [04:05<00:00,  2.03it/s]\n"
          ]
        },
        {
          "output_type": "stream",
          "name": "stdout",
          "text": [
            "Époch 3 -- Loss: 0.3462 Acc: 0.8813\n"
          ]
        },
        {
          "output_type": "stream",
          "name": "stderr",
          "text": [
            "Époch 4/20: 100%|██████████| 500/500 [04:03<00:00,  2.06it/s]\n"
          ]
        },
        {
          "output_type": "stream",
          "name": "stdout",
          "text": [
            "Époch 4 -- Loss: 0.2513 Acc: 0.9134\n"
          ]
        },
        {
          "output_type": "stream",
          "name": "stderr",
          "text": [
            "Époch 5/20: 100%|██████████| 500/500 [04:00<00:00,  2.08it/s]\n"
          ]
        },
        {
          "output_type": "stream",
          "name": "stdout",
          "text": [
            "Époch 5 -- Loss: 0.2059 Acc: 0.9292\n"
          ]
        },
        {
          "output_type": "stream",
          "name": "stderr",
          "text": [
            "Époch 6/20: 100%|██████████| 500/500 [04:01<00:00,  2.07it/s]\n"
          ]
        },
        {
          "output_type": "stream",
          "name": "stdout",
          "text": [
            "Époch 6 -- Loss: 0.1815 Acc: 0.9371\n"
          ]
        },
        {
          "output_type": "stream",
          "name": "stderr",
          "text": [
            "Époch 7/20: 100%|██████████| 500/500 [04:00<00:00,  2.08it/s]\n"
          ]
        },
        {
          "output_type": "stream",
          "name": "stdout",
          "text": [
            "Époch 7 -- Loss: 0.1648 Acc: 0.9417\n"
          ]
        },
        {
          "output_type": "stream",
          "name": "stderr",
          "text": [
            "Époch 8/20: 100%|██████████| 500/500 [04:01<00:00,  2.07it/s]\n"
          ]
        },
        {
          "output_type": "stream",
          "name": "stdout",
          "text": [
            "Époch 8 -- Loss: 0.1529 Acc: 0.9463\n"
          ]
        },
        {
          "output_type": "stream",
          "name": "stderr",
          "text": [
            "Époch 9/20: 100%|██████████| 500/500 [03:59<00:00,  2.08it/s]\n"
          ]
        },
        {
          "output_type": "stream",
          "name": "stdout",
          "text": [
            "Époch 9 -- Loss: 0.1499 Acc: 0.9479\n"
          ]
        },
        {
          "output_type": "stream",
          "name": "stderr",
          "text": [
            "Époch 10/20: 100%|██████████| 500/500 [04:00<00:00,  2.08it/s]\n"
          ]
        },
        {
          "output_type": "stream",
          "name": "stdout",
          "text": [
            "Époch 10 -- Loss: 0.1501 Acc: 0.9475\n"
          ]
        },
        {
          "output_type": "stream",
          "name": "stderr",
          "text": [
            "Époch 11/20: 100%|██████████| 500/500 [04:00<00:00,  2.08it/s]\n"
          ]
        },
        {
          "output_type": "stream",
          "name": "stdout",
          "text": [
            "Époch 11 -- Loss: 0.1524 Acc: 0.9464\n"
          ]
        },
        {
          "output_type": "stream",
          "name": "stderr",
          "text": [
            "Époch 12/20: 100%|██████████| 500/500 [04:00<00:00,  2.08it/s]\n"
          ]
        },
        {
          "output_type": "stream",
          "name": "stdout",
          "text": [
            "Époch 12 -- Loss: 0.1457 Acc: 0.9491\n"
          ]
        },
        {
          "output_type": "stream",
          "name": "stderr",
          "text": [
            "Époch 13/20: 100%|██████████| 500/500 [04:00<00:00,  2.08it/s]\n"
          ]
        },
        {
          "output_type": "stream",
          "name": "stdout",
          "text": [
            "Époch 13 -- Loss: 0.1435 Acc: 0.9495\n"
          ]
        },
        {
          "output_type": "stream",
          "name": "stderr",
          "text": [
            "Époch 14/20: 100%|██████████| 500/500 [04:00<00:00,  2.08it/s]\n"
          ]
        },
        {
          "output_type": "stream",
          "name": "stdout",
          "text": [
            "Époch 14 -- Loss: 0.1474 Acc: 0.9491\n"
          ]
        },
        {
          "output_type": "stream",
          "name": "stderr",
          "text": [
            "Époch 15/20: 100%|██████████| 500/500 [04:00<00:00,  2.08it/s]\n"
          ]
        },
        {
          "output_type": "stream",
          "name": "stdout",
          "text": [
            "Époch 15 -- Loss: 0.1448 Acc: 0.9491\n"
          ]
        },
        {
          "output_type": "stream",
          "name": "stderr",
          "text": [
            "Époch 16/20: 100%|██████████| 500/500 [04:01<00:00,  2.07it/s]\n"
          ]
        },
        {
          "output_type": "stream",
          "name": "stdout",
          "text": [
            "Époch 16 -- Loss: 0.1448 Acc: 0.9497\n"
          ]
        },
        {
          "output_type": "stream",
          "name": "stderr",
          "text": [
            "Époch 17/20: 100%|██████████| 500/500 [04:01<00:00,  2.07it/s]\n"
          ]
        },
        {
          "output_type": "stream",
          "name": "stdout",
          "text": [
            "Époch 17 -- Loss: 0.1498 Acc: 0.9483\n"
          ]
        },
        {
          "output_type": "stream",
          "name": "stderr",
          "text": [
            "Époch 18/20: 100%|██████████| 500/500 [04:03<00:00,  2.05it/s]\n"
          ]
        },
        {
          "output_type": "stream",
          "name": "stdout",
          "text": [
            "Époch 18 -- Loss: 0.1446 Acc: 0.9496\n"
          ]
        },
        {
          "output_type": "stream",
          "name": "stderr",
          "text": [
            "Époch 19/20: 100%|██████████| 500/500 [04:03<00:00,  2.05it/s]\n"
          ]
        },
        {
          "output_type": "stream",
          "name": "stdout",
          "text": [
            "Époch 19 -- Loss: 0.1475 Acc: 0.9482\n"
          ]
        },
        {
          "output_type": "stream",
          "name": "stderr",
          "text": [
            "Époch 20/20: 100%|██████████| 500/500 [04:03<00:00,  2.06it/s]"
          ]
        },
        {
          "output_type": "stream",
          "name": "stdout",
          "text": [
            "Époch 20 -- Loss: 0.1469 Acc: 0.9477\n",
            "CPU times: user 41min 59s, sys: 38min 37s, total: 1h 20min 36s\n",
            "Wall time: 1h 20min 45s\n"
          ]
        },
        {
          "output_type": "stream",
          "name": "stderr",
          "text": [
            "\n"
          ]
        }
      ]
    },
    {
      "cell_type": "code",
      "source": [
        "scaler = torch.cuda.amp.GradScaler()\n",
        "\n",
        "for batch in train_loader:\n",
        "    optimizer.zero_grad()\n",
        "    with torch.cuda.amp.autocast():  # Active le mode mixte précision\n",
        "        outputs = model(inputs)\n",
        "        loss = criterion(outputs, labels)\n",
        "    scaler.scale(loss).backward()\n",
        "    scaler.step(optimizer)\n",
        "    scaler.update()\n"
      ],
      "metadata": {
        "id": "724FzvzlvOEF"
      },
      "execution_count": null,
      "outputs": []
    },
    {
      "cell_type": "markdown",
      "source": [
        "train (resnet)"
      ],
      "metadata": {
        "id": "OKKZ9FuxImeh"
      }
    },
    {
      "cell_type": "code",
      "source": [
        "%%time\n",
        "\n",
        "model = load_protonet_conveff(\n",
        "      # Taille des images 64x64x3\n",
        "\n",
        "    z_dim=64,\n",
        ")\n",
        "\n",
        "optimizer = optim.Adam(model.parameters(), lr=0.001)\n",
        "\n",
        "# Ajuste n_way selon le nombre de classes\n",
        "n_way = 10\n",
        "n_support = 20\n",
        "n_query = 20\n",
        "\n",
        "max_epoch = 5\n",
        "epoch_size = 500  # Réduire si RAM insuffisante\n",
        "\n",
        "train(model, optimizer, trainx, trainy, n_way, n_support, n_query, max_epoch, epoch_size)"
      ],
      "metadata": {
        "colab": {
          "base_uri": "https://localhost:8080/"
        },
        "id": "W0IqlGPYIl5g",
        "outputId": "9584992b-59f5-47a2-f001-c815632ece94"
      },
      "execution_count": null,
      "outputs": [
        {
          "output_type": "stream",
          "name": "stderr",
          "text": [
            "/usr/local/lib/python3.11/dist-packages/torchvision/models/_utils.py:208: UserWarning: The parameter 'pretrained' is deprecated since 0.13 and may be removed in the future, please use 'weights' instead.\n",
            "  warnings.warn(\n",
            "/usr/local/lib/python3.11/dist-packages/torchvision/models/_utils.py:223: UserWarning: Arguments other than a weight enum or `None` for 'weights' are deprecated since 0.13 and may be removed in the future. The current behavior is equivalent to passing `weights=EfficientNet_B0_Weights.IMAGENET1K_V1`. You can also use `weights=EfficientNet_B0_Weights.DEFAULT` to get the most up-to-date weights.\n",
            "  warnings.warn(msg)\n",
            "Downloading: \"https://download.pytorch.org/models/efficientnet_b0_rwightman-7f5810bc.pth\" to /root/.cache/torch/hub/checkpoints/efficientnet_b0_rwightman-7f5810bc.pth\n",
            "100%|██████████| 20.5M/20.5M [00:00<00:00, 125MB/s]\n",
            "Époch 1/5: 100%|██████████| 500/500 [17:47<00:00,  2.14s/it]\n"
          ]
        },
        {
          "output_type": "stream",
          "name": "stdout",
          "text": [
            "Époch 1 -- Loss: 0.9815 Acc: 0.7964\n"
          ]
        },
        {
          "output_type": "stream",
          "name": "stderr",
          "text": [
            "Époch 2/5: 100%|██████████| 500/500 [17:46<00:00,  2.13s/it]\n"
          ]
        },
        {
          "output_type": "stream",
          "name": "stdout",
          "text": [
            "Époch 2 -- Loss: 0.3987 Acc: 0.8852\n"
          ]
        },
        {
          "output_type": "stream",
          "name": "stderr",
          "text": [
            "Époch 3/5: 100%|██████████| 500/500 [17:50<00:00,  2.14s/it]\n"
          ]
        },
        {
          "output_type": "stream",
          "name": "stdout",
          "text": [
            "Époch 3 -- Loss: 0.2935 Acc: 0.9098\n"
          ]
        },
        {
          "output_type": "stream",
          "name": "stderr",
          "text": [
            "Époch 4/5: 100%|██████████| 500/500 [17:46<00:00,  2.13s/it]\n"
          ]
        },
        {
          "output_type": "stream",
          "name": "stdout",
          "text": [
            "Époch 4 -- Loss: 0.2469 Acc: 0.9226\n"
          ]
        },
        {
          "output_type": "stream",
          "name": "stderr",
          "text": [
            "Époch 5/5: 100%|██████████| 500/500 [17:47<00:00,  2.13s/it]"
          ]
        },
        {
          "output_type": "stream",
          "name": "stdout",
          "text": [
            "Époch 5 -- Loss: 0.2320 Acc: 0.9282\n",
            "CPU times: user 44min 20s, sys: 44min 29s, total: 1h 28min 49s\n",
            "Wall time: 1h 28min 58s\n"
          ]
        },
        {
          "output_type": "stream",
          "name": "stderr",
          "text": [
            "\n"
          ]
        }
      ]
    },
    {
      "cell_type": "markdown",
      "source": [
        "#Test"
      ],
      "metadata": {
        "id": "P8QrHpG0G2Qd"
      }
    },
    {
      "cell_type": "code",
      "source": [
        "from tqdm import tnrange\n",
        "def test(model, test_x, test_y, n_way, n_support, n_query, test_episode):\n",
        "  \"\"\"\n",
        "  Tests the protonet\n",
        "  Args:\n",
        "      model: trained model\n",
        "      test_x (np.array): images of testing set\n",
        "      test_y (np.array): labels of testing set\n",
        "      n_way (int): number of classes in a classification task\n",
        "      n_support (int): number of labeled examples per class in the support set\n",
        "      n_query (int): number of labeled examples per class in the query set\n",
        "      test_episode (int): number of episodes to test on\n",
        "  \"\"\"\n",
        "  running_loss = 0.0\n",
        "  running_acc = 0.0\n",
        "  for episode in tnrange(test_episode):\n",
        "    sample = extract_sample(n_way, n_support, n_query, test_x, test_y)\n",
        "    loss, output = model.set_forward_loss(sample)\n",
        "    running_loss += output['loss']\n",
        "    running_acc += output['acc']\n",
        "  avg_loss = running_loss / test_episode\n",
        "  avg_acc = running_acc / test_episode\n",
        "  print('Test results -- Loss: {:.4f} Acc: {:.4f}'.format(avg_loss, avg_acc))"
      ],
      "metadata": {
        "id": "bUKE5quEG3hb"
      },
      "execution_count": 39,
      "outputs": []
    },
    {
      "cell_type": "code",
      "source": [
        "n_way = 5\n",
        "n_support = 10\n",
        "n_query = 10\n",
        "\n",
        "test_x = testx\n",
        "test_y = testy\n",
        "\n",
        "test_episode = 1000\n",
        "\n",
        "test(model, test_x, test_y, n_way, n_support, n_query, test_episode)"
      ],
      "metadata": {
        "colab": {
          "base_uri": "https://localhost:8080/",
          "height": 101,
          "referenced_widgets": [
            "652d0c06bdba451db7b9fe1ba75f1767",
            "c4042c470d29466b853b21893167a970",
            "902e7eb0fd584b408cfe76d4041c3e04",
            "3ba66256d07546788893edb27b90df4e",
            "d75c5cf71a5f4843959a906091a972ea",
            "941aab96bc6b4bd2aa0818ee33fd291a",
            "14a0f316e638408394b634c58e47fcf6",
            "f964d8db106947e4b8ed79b12249cdda",
            "dc9d26bc02c74aa7932c2dfff9987f2b",
            "916b89a90c674408a569ab67fd79c09f",
            "e7c3ca8a874b41bbafb2e6ef219c1c1e"
          ]
        },
        "id": "bAcVek1BG6Kq",
        "outputId": "e841aaae-48d3-4795-ffda-a7a20e9cacd0"
      },
      "execution_count": 40,
      "outputs": [
        {
          "output_type": "stream",
          "name": "stderr",
          "text": [
            "<ipython-input-39-e1506df7f7c6>:16: TqdmDeprecationWarning: Please use `tqdm.notebook.trange` instead of `tqdm.tnrange`\n",
            "  for episode in tnrange(test_episode):\n"
          ]
        },
        {
          "output_type": "display_data",
          "data": {
            "text/plain": [
              "  0%|          | 0/1000 [00:00<?, ?it/s]"
            ],
            "application/vnd.jupyter.widget-view+json": {
              "version_major": 2,
              "version_minor": 0,
              "model_id": "652d0c06bdba451db7b9fe1ba75f1767"
            }
          },
          "metadata": {}
        },
        {
          "output_type": "stream",
          "name": "stdout",
          "text": [
            "Test results -- Loss: 0.5408 Acc: 0.8336\n"
          ]
        }
      ]
    },
    {
      "cell_type": "markdown",
      "source": [
        "#test results"
      ],
      "metadata": {
        "id": "sLxojhTCShXv"
      }
    },
    {
      "cell_type": "markdown",
      "source": [
        "\n",
        "\n",
        "1.  CNN simple : Loss: 0.5408 Acc: 0.8336 (20 epochs)\n",
        "2.  resnet :Test results -- Loss: 7.4034 Acc: 0.5795\n",
        "3. mobilenet Test results -- Loss: 3.4031 Acc: 0.6383\n",
        "4. efficeint Test results -- Loss: 3.0548 Acc: 0.5811\n",
        "\n"
      ],
      "metadata": {
        "id": "9jDf10vuStlc"
      }
    }
  ]
}